{
  "cells": [
    {
      "cell_type": "markdown",
      "metadata": {
        "id": "IhSLtrD2R2Ok"
      },
      "source": [
        "## Triplet Loss"
      ]
    },
    {
      "cell_type": "markdown",
      "metadata": {
        "id": "kPy1LODHR6JC"
      },
      "source": [
        "Triplet Loss — это один из лоссов для contrastive learning. Чтобы учить модель с помощью этого лосса, модели не нужен последний классификационный слой. Этот лосс работает прямо с эмбеддингами $x_i$ элементов, которые выдает модель."
      ]
    },
    {
      "cell_type": "markdown",
      "metadata": {
        "id": "6cMS9QhvTE2q"
      },
      "source": [
        "Снова скажем, что идея лосса — заставить эмбеддинги лиц одного человека быть более близкими по некоторому расстоянию, а эмбеддинги лиц разных людей — далекими друг от друга. Общая формула лосса выглядит так:\n",
        "\n",
        "$$L(e, p, n) = max\\{d(a, p) - d(a, n) + margin, 0\\},$$\n",
        "\n",
        "здесь\n",
        "- $e$ — эмбеддинг входного лица (output модели)\n",
        "- $p$ — \"positive\" эмбеддинг для входного лица (т.е. эмбеддинг такого элемента, что мы хотим, чтобы $e$ и $p$ были близки. В нашем случае это значит, что $e$ и $p$ должны быть выходами сети на два разных фото одного и того же человека).\n",
        "- $n$ — \"negative\" эмбеддинг для входного лица (т.е. эмбеддинг такого элемента, что мы хотим, чтобы $e$ и $p$ были далеки. В нашем случае это значит, что $e$ и $p$ должны быть выходами сети на два разных фото разных людей).\n",
        "- $d(x, y)$ — метрика расстояния между эмбеддингами, по которой мы их сравниваем.\n",
        "- margin — гиперпараметр, который заставляет $d(a, p)$ и $d(a, n)$ быть еще дальше друг от друга.\n",
        "\n",
        "**Эмбеддинги $e$, $p$ и $n$ нужно нормализовать, прежде чем подавать в лосс-функцию**.\n",
        "\n",
        "У TripletLoss есть куча разных вариаций. В некоторых из них больше гиперпараметров, в других предлагают использовать больше одного позитивного и негативного эмбеддинга за раз. Где-то предлагается умный способ выбора negative эмбеддинга (например, выбирается такой, на котором нейросеть пока плохо работает, т.е. считает $e$ и $n$ близкими).\n",
        "\n",
        "Пример реализации TripletLoss можно найти [здесь](https://pytorch.org/docs/stable/generated/torch.nn.TripletMarginWithDistanceLoss.html#torch.nn.TripletMarginWithDistanceLoss).\n",
        "\n",
        "Будьте готовы, что TripletLoss придется настраивать, чтобы добиться хорошего результата при обучении сети.\n"
      ]
    },
    {
      "cell_type": "markdown",
      "metadata": {
        "id": "XYTA2a28Vwvk"
      },
      "source": [
        "**Что нужно учесть при реализации Triplet Loss**:\n",
        "- при обучении мы обычно хотим следить за ходом обучения модели, считая какую-то метрику качества. Тут у нас больше нет классификационного слоя, так что accuracy мы считать не можем. Нужно придумать, как в случае Triplet Loss считать метрику качества на вализации в течение обучения. Подумайте, как можно это сделать?\n",
        "- скорее всего, чтобы обучить сеть на Triplet Loss, придется написать кастомный Dalaset/Dataloader, который будет возвращать тройки элементов (anchor, positive, negative).\n",
        "- не забудьте нормализовать эмбеддинги перед подсчетом лосса! Это можно сделать руками, а можно, например, добавить в конец сети batchnorm без обучаемых параметров."
      ]
    },
    {
      "cell_type": "markdown",
      "metadata": {
        "id": "sDtNoSCpVbKF"
      },
      "source": [
        "**Доп литература по Triplet Loss**:\n",
        "\n",
        "- Идея TripletLoss: https://en.wikipedia.org/wiki/Triplet_loss\n",
        "- Хорошая статья про batch mining techniques для выбора positive и negative элементов: https://omoindrot.github.io/triplet-loss#triplet-mining\n"
      ]
    },
    {
      "cell_type": "code",
      "execution_count": 1,
      "metadata": {},
      "outputs": [
        {
          "data": {
            "text/plain": [
              "device(type='cuda')"
            ]
          },
          "execution_count": 1,
          "metadata": {},
          "output_type": "execute_result"
        }
      ],
      "source": [
        "import os\n",
        "import random\n",
        "import math\n",
        "import itertools\n",
        "from collections import defaultdict\n",
        "\n",
        "import numpy as np\n",
        "import pandas as pd\n",
        "import torch\n",
        "import torch.nn as nn\n",
        "import torch.nn.functional as F\n",
        "import torch.optim as optim\n",
        "from torch.utils.data import Dataset, DataLoader, Sampler, Subset, random_split\n",
        "import torchvision\n",
        "import torchvision.transforms as transforms\n",
        "from torchvision.models import resnet34\n",
        "from torch.optim.lr_scheduler import CosineAnnealingLR\n",
        "\n",
        "\n",
        "import matplotlib.pyplot as plt\n",
        "from PIL import Image, ImageDraw\n",
        "import cv2\n",
        "from tqdm.notebook import tqdm \n",
        "\n",
        "from defenitions import ArcFaceLoss\n",
        "from models import get_recognition_model\n",
        "\n",
        "device = torch.device('cuda' if torch.cuda.is_available() else 'cpu')\n",
        "device\n"
      ]
    },
    {
      "cell_type": "code",
      "execution_count": 2,
      "metadata": {},
      "outputs": [],
      "source": [
        "\n",
        "class BalancedBatchSampler(Sampler):\n",
        "    def __init__(self, dataset, n_classes, n_samples):\n",
        "        super().__init__(dataset)\n",
        "        self.labels = [item[1] for item in dataset.samples]\n",
        "        self.labels_set = list(set(self.labels))\n",
        "        self.label_to_indices = {label: np.where(np.array(self.labels) == label)[0]\n",
        "                                 for label in self.labels_set}\n",
        "        for l in self.labels_set:\n",
        "            np.random.shuffle(self.label_to_indices[l])\n",
        "        self.used_label_indices_count = {label: 0 for label in self.labels_set}\n",
        "        \n",
        "        self.n_classes = n_classes\n",
        "        self.n_samples = n_samples\n",
        "        self.dataset_size = len(dataset.samples)\n",
        "        self.batch_size = self.n_classes * self.n_samples\n",
        "\n",
        "    def __iter__(self):\n",
        "        self.used_label_indices_count = {label: 0 for label in self.labels_set}\n",
        "        \n",
        "        num_batches = self.dataset_size // self.batch_size\n",
        "        for _ in range(num_batches):\n",
        "            classes = np.random.choice(self.labels_set, self.n_classes, replace=False)\n",
        "            indices = []\n",
        "            for class_ in classes:\n",
        "                indices_for_class = self.label_to_indices[class_]\n",
        "                start_index = self.used_label_indices_count[class_]\n",
        "                \n",
        "                batch_indices = indices_for_class[start_index : start_index + self.n_samples]\n",
        "                \n",
        "                if len(batch_indices) < self.n_samples:\n",
        "                    remaining = self.n_samples - len(batch_indices)\n",
        "                    batch_indices = np.concatenate([batch_indices, indices_for_class[:remaining]])\n",
        "                    self.used_label_indices_count[class_] = remaining\n",
        "                else:\n",
        "                    self.used_label_indices_count[class_] += self.n_samples\n",
        "                \n",
        "                indices.extend(batch_indices)\n",
        "            yield indices\n",
        "\n",
        "    def __len__(self):\n",
        "        return self.dataset_size // self.batch_size * self.batch_size"
      ]
    },
    {
      "cell_type": "code",
      "execution_count": 3,
      "metadata": {},
      "outputs": [
        {
          "name": "stdout",
          "output_type": "stream",
          "text": [
            "Загружено 5574 изображений.\n",
            "Обучающая выборка: 4459 изображений.\n",
            "Валидационная выборка: 1115 изображений.\n",
            "Train DataLoader использует BalancedBatchSampler с P=16, K=4.\n"
          ]
        },
        {
          "name": "stderr",
          "output_type": "stream",
          "text": [
            "c:\\Users\\admin\\.pyenv\\pyenv-win\\versions\\3.11.9\\Lib\\site-packages\\torch\\utils\\data\\sampler.py:68: UserWarning: `data_source` argument is not used and will be removed in 2.2.0.You may still have custom implementation that utilizes it.\n",
            "  warnings.warn(\n"
          ]
        }
      ],
      "source": [
        "transform_train = transforms.Compose([\n",
        "    transforms.RandomHorizontalFlip(p=0.5),\n",
        "    transforms.ColorJitter(brightness=0.2, contrast=0.2),\n",
        "    transforms.RandomAffine(degrees=10, translate=(0.05, 0.05), scale=(0.9, 1.1)),\n",
        "    transforms.Resize((128, 128)),\n",
        "    transforms.ToTensor(),\n",
        "])\n",
        "\n",
        "transform_val = transforms.Compose([\n",
        "    transforms.Resize((128, 128)),\n",
        "    transforms.ToTensor(),\n",
        "])\n",
        "\n",
        "aligned_root = './data/celeba_aligned_top_200' \n",
        "dataset = torchvision.datasets.ImageFolder(root=aligned_root)\n",
        "\n",
        "train_size = int(0.8 * len(dataset))\n",
        "val_size = len(dataset) - train_size\n",
        "train_dataset, val_dataset = random_split(dataset, [train_size, val_size])\n",
        "\n",
        "class TransformedSubset(Dataset):\n",
        "    def __init__(self, subset, transform=None):\n",
        "        self.subset = subset\n",
        "        self.transform = transform\n",
        "    \n",
        "    def __getitem__(self, index):\n",
        "        x, y = self.subset[index]\n",
        "        if self.transform:\n",
        "            x = self.transform(x)\n",
        "        return x, y\n",
        "    \n",
        "    def __len__(self):\n",
        "        return len(self.subset)\n",
        "\n",
        "train_dataset_transformed = TransformedSubset(train_dataset, transform=transform_train)\n",
        "val_dataset_transformed = TransformedSubset(val_dataset, transform=transform_val)\n",
        "\n",
        "P = 16  \n",
        "K = 4   \n",
        "\n",
        "train_samples = [dataset.samples[i] for i in train_dataset.indices]\n",
        "\n",
        "class DummyDataset:\n",
        "    def __init__(self, samples):\n",
        "        self.samples = samples\n",
        "\n",
        "train_dummy_dataset = DummyDataset(train_samples)\n",
        "\n",
        "train_sampler = BalancedBatchSampler(train_dummy_dataset, n_classes=P, n_samples=K)\n",
        "\n",
        "train_loader = DataLoader(train_dataset_transformed, batch_sampler=train_sampler, num_workers=0) \n",
        "\n",
        "val_loader = DataLoader(val_dataset_transformed, batch_size=64, shuffle=False, num_workers=0)\n",
        "\n",
        "print(f\"Загружено {len(dataset)} изображений.\")\n",
        "print(f\"Обучающая выборка: {len(train_dataset)} изображений.\")\n",
        "print(f\"Валидационная выборка: {len(val_dataset)} изображений.\")\n",
        "print(f\"Train DataLoader использует BalancedBatchSampler с P={P}, K={K}.\")"
      ]
    },
    {
      "cell_type": "code",
      "execution_count": 4,
      "metadata": {},
      "outputs": [],
      "source": [
        "import torch.nn.functional as F\n",
        "\n",
        "import torch.nn.functional as F\n",
        "\n",
        "def get_hard_triplets(embeddings, labels):\n",
        "    pairwise_dist = torch.cdist(embeddings, embeddings, p=2)\n",
        "    mask_positive = (labels.unsqueeze(1) == labels.unsqueeze(0)).bool()\n",
        "    \n",
        "    mask_positive.fill_diagonal_(False)\n",
        "    \n",
        "    if not mask_positive.any():\n",
        "        return torch.tensor(0.0).to(embeddings.device) \n",
        "        \n",
        "    dist_ap, _ = torch.max(pairwise_dist * mask_positive.float(), dim=1)\n",
        "    \n",
        "    dist_an, _ = torch.min(pairwise_dist + 1e5 * (~mask_positive).logical_not().float(), dim=1)\n",
        "    \n",
        "    triplet_loss = F.relu(dist_ap - dist_an + 0.2) \n",
        "    \n",
        "    num_non_zero_triplets = (triplet_loss > 1e-16).sum()\n",
        "    if num_non_zero_triplets == 0:\n",
        "        return torch.tensor(0.0).to(embeddings.device)\n",
        "        \n",
        "    loss = triplet_loss.sum() / num_non_zero_triplets\n",
        "    return loss"
      ]
    },
    {
      "cell_type": "markdown",
      "metadata": {},
      "source": [
        "### Tripletloss"
      ]
    },
    {
      "cell_type": "code",
      "execution_count": 11,
      "metadata": {},
      "outputs": [
        {
          "name": "stdout",
          "output_type": "stream",
          "text": [
            "Starting training with Triplet Loss only...\n"
          ]
        },
        {
          "data": {
            "application/vnd.jupyter.widget-view+json": {
              "model_id": "659e270ef8ea4acdbd2332adcb496bbc",
              "version_major": 2,
              "version_minor": 0
            },
            "text/plain": [
              "Epoch 1/40:   0%|          | 0/69 [00:00<?, ?it/s]"
            ]
          },
          "metadata": {},
          "output_type": "display_data"
        },
        {
          "name": "stdout",
          "output_type": "stream",
          "text": [
            "\n",
            "Epoch 1 done. Avg Triplet Train Loss: 1.5493\n",
            "Validation k-NN Accuracy (Rank-1): 28.07%\n",
            "model saved, Accuracy: 28.07% at epoch 1\n"
          ]
        },
        {
          "data": {
            "application/vnd.jupyter.widget-view+json": {
              "model_id": "c6a7e49a42044f588aee94420c246f0b",
              "version_major": 2,
              "version_minor": 0
            },
            "text/plain": [
              "Epoch 2/40:   0%|          | 0/69 [00:00<?, ?it/s]"
            ]
          },
          "metadata": {},
          "output_type": "display_data"
        },
        {
          "name": "stdout",
          "output_type": "stream",
          "text": [
            "\n",
            "Epoch 2 done. Avg Triplet Train Loss: 1.1924\n",
            "Validation k-NN Accuracy (Rank-1): 25.92%\n"
          ]
        },
        {
          "data": {
            "application/vnd.jupyter.widget-view+json": {
              "model_id": "c31fde0024374c96a33bf5940380a0c0",
              "version_major": 2,
              "version_minor": 0
            },
            "text/plain": [
              "Epoch 3/40:   0%|          | 0/69 [00:00<?, ?it/s]"
            ]
          },
          "metadata": {},
          "output_type": "display_data"
        },
        {
          "name": "stdout",
          "output_type": "stream",
          "text": [
            "\n",
            "Epoch 3 done. Avg Triplet Train Loss: 0.8171\n",
            "Validation k-NN Accuracy (Rank-1): 23.95%\n"
          ]
        },
        {
          "data": {
            "application/vnd.jupyter.widget-view+json": {
              "model_id": "4e016573c800487194e514491e9eca2e",
              "version_major": 2,
              "version_minor": 0
            },
            "text/plain": [
              "Epoch 4/40:   0%|          | 0/69 [00:00<?, ?it/s]"
            ]
          },
          "metadata": {},
          "output_type": "display_data"
        },
        {
          "name": "stdout",
          "output_type": "stream",
          "text": [
            "\n",
            "Epoch 4 done. Avg Triplet Train Loss: 0.5778\n",
            "Validation k-NN Accuracy (Rank-1): 21.70%\n"
          ]
        },
        {
          "data": {
            "application/vnd.jupyter.widget-view+json": {
              "model_id": "5e9e2bfa88b1427b98d22d2eb738c261",
              "version_major": 2,
              "version_minor": 0
            },
            "text/plain": [
              "Epoch 5/40:   0%|          | 0/69 [00:00<?, ?it/s]"
            ]
          },
          "metadata": {},
          "output_type": "display_data"
        },
        {
          "name": "stdout",
          "output_type": "stream",
          "text": [
            "\n",
            "Epoch 5 done. Avg Triplet Train Loss: 0.4769\n",
            "Validation k-NN Accuracy (Rank-1): 20.81%\n"
          ]
        },
        {
          "data": {
            "application/vnd.jupyter.widget-view+json": {
              "model_id": "9940712ab6414376a40e1f642c21fd0c",
              "version_major": 2,
              "version_minor": 0
            },
            "text/plain": [
              "Epoch 6/40:   0%|          | 0/69 [00:00<?, ?it/s]"
            ]
          },
          "metadata": {},
          "output_type": "display_data"
        },
        {
          "name": "stdout",
          "output_type": "stream",
          "text": [
            "\n",
            "Epoch 6 done. Avg Triplet Train Loss: 0.4356\n",
            "Validation k-NN Accuracy (Rank-1): 21.35%\n"
          ]
        },
        {
          "data": {
            "application/vnd.jupyter.widget-view+json": {
              "model_id": "578878d119bf4ebeb82701289fba6d01",
              "version_major": 2,
              "version_minor": 0
            },
            "text/plain": [
              "Epoch 7/40:   0%|          | 0/69 [00:00<?, ?it/s]"
            ]
          },
          "metadata": {},
          "output_type": "display_data"
        },
        {
          "name": "stdout",
          "output_type": "stream",
          "text": [
            "\n",
            "Epoch 7 done. Avg Triplet Train Loss: 0.4115\n",
            "Validation k-NN Accuracy (Rank-1): 20.81%\n"
          ]
        },
        {
          "data": {
            "application/vnd.jupyter.widget-view+json": {
              "model_id": "651da7f75a5c41af88759487bb279a10",
              "version_major": 2,
              "version_minor": 0
            },
            "text/plain": [
              "Epoch 8/40:   0%|          | 0/69 [00:00<?, ?it/s]"
            ]
          },
          "metadata": {},
          "output_type": "display_data"
        },
        {
          "name": "stdout",
          "output_type": "stream",
          "text": [
            "\n",
            "Epoch 8 done. Avg Triplet Train Loss: 0.3957\n",
            "Validation k-NN Accuracy (Rank-1): 21.35%\n"
          ]
        },
        {
          "data": {
            "application/vnd.jupyter.widget-view+json": {
              "model_id": "fa823b241f09493d92450cc58d1cb894",
              "version_major": 2,
              "version_minor": 0
            },
            "text/plain": [
              "Epoch 9/40:   0%|          | 0/69 [00:00<?, ?it/s]"
            ]
          },
          "metadata": {},
          "output_type": "display_data"
        },
        {
          "name": "stdout",
          "output_type": "stream",
          "text": [
            "\n",
            "Epoch 9 done. Avg Triplet Train Loss: 0.3829\n",
            "Validation k-NN Accuracy (Rank-1): 21.43%\n"
          ]
        },
        {
          "data": {
            "application/vnd.jupyter.widget-view+json": {
              "model_id": "ebadfa02926343d19f8c1d5e8d4dbd82",
              "version_major": 2,
              "version_minor": 0
            },
            "text/plain": [
              "Epoch 10/40:   0%|          | 0/69 [00:00<?, ?it/s]"
            ]
          },
          "metadata": {},
          "output_type": "display_data"
        },
        {
          "name": "stdout",
          "output_type": "stream",
          "text": [
            "\n",
            "Epoch 10 done. Avg Triplet Train Loss: 0.3722\n",
            "Validation k-NN Accuracy (Rank-1): 20.99%\n"
          ]
        },
        {
          "data": {
            "application/vnd.jupyter.widget-view+json": {
              "model_id": "6f682ce0fd9c49618f49973bd66c9ca8",
              "version_major": 2,
              "version_minor": 0
            },
            "text/plain": [
              "Epoch 11/40:   0%|          | 0/69 [00:00<?, ?it/s]"
            ]
          },
          "metadata": {},
          "output_type": "display_data"
        },
        {
          "name": "stdout",
          "output_type": "stream",
          "text": [
            "\n",
            "Epoch 11 done. Avg Triplet Train Loss: 0.3637\n",
            "Validation k-NN Accuracy (Rank-1): 21.52%\n"
          ]
        },
        {
          "data": {
            "application/vnd.jupyter.widget-view+json": {
              "model_id": "d648abf569ff49d08d3dc6ec05410653",
              "version_major": 2,
              "version_minor": 0
            },
            "text/plain": [
              "Epoch 12/40:   0%|          | 0/69 [00:00<?, ?it/s]"
            ]
          },
          "metadata": {},
          "output_type": "display_data"
        },
        {
          "name": "stdout",
          "output_type": "stream",
          "text": [
            "\n",
            "Epoch 12 done. Avg Triplet Train Loss: 0.3563\n",
            "Validation k-NN Accuracy (Rank-1): 21.17%\n"
          ]
        },
        {
          "data": {
            "application/vnd.jupyter.widget-view+json": {
              "model_id": "108bca4dc1684b5d837fb896d4087dbc",
              "version_major": 2,
              "version_minor": 0
            },
            "text/plain": [
              "Epoch 13/40:   0%|          | 0/69 [00:00<?, ?it/s]"
            ]
          },
          "metadata": {},
          "output_type": "display_data"
        },
        {
          "name": "stdout",
          "output_type": "stream",
          "text": [
            "\n",
            "Epoch 13 done. Avg Triplet Train Loss: 0.3496\n",
            "Validation k-NN Accuracy (Rank-1): 21.52%\n"
          ]
        },
        {
          "data": {
            "application/vnd.jupyter.widget-view+json": {
              "model_id": "704e70aa502c42e49bb994fa3d34399c",
              "version_major": 2,
              "version_minor": 0
            },
            "text/plain": [
              "Epoch 14/40:   0%|          | 0/69 [00:00<?, ?it/s]"
            ]
          },
          "metadata": {},
          "output_type": "display_data"
        },
        {
          "name": "stdout",
          "output_type": "stream",
          "text": [
            "\n",
            "Epoch 14 done. Avg Triplet Train Loss: 0.3438\n",
            "Validation k-NN Accuracy (Rank-1): 21.17%\n"
          ]
        },
        {
          "data": {
            "application/vnd.jupyter.widget-view+json": {
              "model_id": "cc87defca37844a59e68512c67a33255",
              "version_major": 2,
              "version_minor": 0
            },
            "text/plain": [
              "Epoch 15/40:   0%|          | 0/69 [00:00<?, ?it/s]"
            ]
          },
          "metadata": {},
          "output_type": "display_data"
        },
        {
          "name": "stdout",
          "output_type": "stream",
          "text": [
            "\n",
            "Epoch 15 done. Avg Triplet Train Loss: 0.3386\n",
            "Validation k-NN Accuracy (Rank-1): 22.15%\n"
          ]
        },
        {
          "data": {
            "application/vnd.jupyter.widget-view+json": {
              "model_id": "c65d6060baab44c0a74a8d7fcf543152",
              "version_major": 2,
              "version_minor": 0
            },
            "text/plain": [
              "Epoch 16/40:   0%|          | 0/69 [00:00<?, ?it/s]"
            ]
          },
          "metadata": {},
          "output_type": "display_data"
        },
        {
          "name": "stdout",
          "output_type": "stream",
          "text": [
            "\n",
            "Epoch 16 done. Avg Triplet Train Loss: 0.3340\n",
            "Validation k-NN Accuracy (Rank-1): 22.06%\n"
          ]
        },
        {
          "data": {
            "application/vnd.jupyter.widget-view+json": {
              "model_id": "cc693a14a581431086fa9d961c88a72a",
              "version_major": 2,
              "version_minor": 0
            },
            "text/plain": [
              "Epoch 17/40:   0%|          | 0/69 [00:00<?, ?it/s]"
            ]
          },
          "metadata": {},
          "output_type": "display_data"
        },
        {
          "name": "stdout",
          "output_type": "stream",
          "text": [
            "\n",
            "Epoch 17 done. Avg Triplet Train Loss: 0.3298\n",
            "Validation k-NN Accuracy (Rank-1): 22.42%\n"
          ]
        },
        {
          "data": {
            "application/vnd.jupyter.widget-view+json": {
              "model_id": "6714286bbefc4b9fa9ae451480e510f0",
              "version_major": 2,
              "version_minor": 0
            },
            "text/plain": [
              "Epoch 18/40:   0%|          | 0/69 [00:00<?, ?it/s]"
            ]
          },
          "metadata": {},
          "output_type": "display_data"
        },
        {
          "name": "stdout",
          "output_type": "stream",
          "text": [
            "\n",
            "Epoch 18 done. Avg Triplet Train Loss: 0.3260\n",
            "Validation k-NN Accuracy (Rank-1): 21.88%\n"
          ]
        },
        {
          "data": {
            "application/vnd.jupyter.widget-view+json": {
              "model_id": "8272d887c0bd46f6b8a9560b571fe488",
              "version_major": 2,
              "version_minor": 0
            },
            "text/plain": [
              "Epoch 19/40:   0%|          | 0/69 [00:00<?, ?it/s]"
            ]
          },
          "metadata": {},
          "output_type": "display_data"
        },
        {
          "name": "stdout",
          "output_type": "stream",
          "text": [
            "\n",
            "Epoch 19 done. Avg Triplet Train Loss: 0.3227\n",
            "Validation k-NN Accuracy (Rank-1): 21.88%\n"
          ]
        },
        {
          "data": {
            "application/vnd.jupyter.widget-view+json": {
              "model_id": "b657535991134642a6aca03a364da0ed",
              "version_major": 2,
              "version_minor": 0
            },
            "text/plain": [
              "Epoch 20/40:   0%|          | 0/69 [00:00<?, ?it/s]"
            ]
          },
          "metadata": {},
          "output_type": "display_data"
        },
        {
          "name": "stdout",
          "output_type": "stream",
          "text": [
            "\n",
            "Epoch 20 done. Avg Triplet Train Loss: 0.3194\n",
            "Validation k-NN Accuracy (Rank-1): 21.79%\n"
          ]
        },
        {
          "data": {
            "application/vnd.jupyter.widget-view+json": {
              "model_id": "13552f7917744cd888ed9413252d0e97",
              "version_major": 2,
              "version_minor": 0
            },
            "text/plain": [
              "Epoch 21/40:   0%|          | 0/69 [00:00<?, ?it/s]"
            ]
          },
          "metadata": {},
          "output_type": "display_data"
        },
        {
          "name": "stdout",
          "output_type": "stream",
          "text": [
            "\n",
            "Epoch 21 done. Avg Triplet Train Loss: 0.3161\n",
            "Validation k-NN Accuracy (Rank-1): 21.79%\n"
          ]
        },
        {
          "data": {
            "application/vnd.jupyter.widget-view+json": {
              "model_id": "c792be9da05c4f47bab9030cf4a10e87",
              "version_major": 2,
              "version_minor": 0
            },
            "text/plain": [
              "Epoch 22/40:   0%|          | 0/69 [00:00<?, ?it/s]"
            ]
          },
          "metadata": {},
          "output_type": "display_data"
        },
        {
          "name": "stdout",
          "output_type": "stream",
          "text": [
            "\n",
            "Epoch 22 done. Avg Triplet Train Loss: 0.3132\n",
            "Validation k-NN Accuracy (Rank-1): 21.79%\n"
          ]
        },
        {
          "data": {
            "application/vnd.jupyter.widget-view+json": {
              "model_id": "38affedc02ee437299eee8f6402b01c4",
              "version_major": 2,
              "version_minor": 0
            },
            "text/plain": [
              "Epoch 23/40:   0%|          | 0/69 [00:00<?, ?it/s]"
            ]
          },
          "metadata": {},
          "output_type": "display_data"
        },
        {
          "name": "stdout",
          "output_type": "stream",
          "text": [
            "\n",
            "Epoch 23 done. Avg Triplet Train Loss: 0.3111\n",
            "Validation k-NN Accuracy (Rank-1): 22.15%\n"
          ]
        },
        {
          "data": {
            "application/vnd.jupyter.widget-view+json": {
              "model_id": "12f2c381a97f49339c099e34071fe5fa",
              "version_major": 2,
              "version_minor": 0
            },
            "text/plain": [
              "Epoch 24/40:   0%|          | 0/69 [00:00<?, ?it/s]"
            ]
          },
          "metadata": {},
          "output_type": "display_data"
        },
        {
          "name": "stdout",
          "output_type": "stream",
          "text": [
            "\n",
            "Epoch 24 done. Avg Triplet Train Loss: 0.3087\n",
            "Validation k-NN Accuracy (Rank-1): 21.70%\n"
          ]
        },
        {
          "data": {
            "application/vnd.jupyter.widget-view+json": {
              "model_id": "806c6208455745d998ca5f196a744706",
              "version_major": 2,
              "version_minor": 0
            },
            "text/plain": [
              "Epoch 25/40:   0%|          | 0/69 [00:00<?, ?it/s]"
            ]
          },
          "metadata": {},
          "output_type": "display_data"
        },
        {
          "name": "stdout",
          "output_type": "stream",
          "text": [
            "\n",
            "Epoch 25 done. Avg Triplet Train Loss: 0.3065\n",
            "Validation k-NN Accuracy (Rank-1): 21.97%\n"
          ]
        },
        {
          "data": {
            "application/vnd.jupyter.widget-view+json": {
              "model_id": "54ca97533011485ca161395b74c64e8a",
              "version_major": 2,
              "version_minor": 0
            },
            "text/plain": [
              "Epoch 26/40:   0%|          | 0/69 [00:00<?, ?it/s]"
            ]
          },
          "metadata": {},
          "output_type": "display_data"
        },
        {
          "name": "stdout",
          "output_type": "stream",
          "text": [
            "\n",
            "Epoch 26 done. Avg Triplet Train Loss: 0.3045\n",
            "Validation k-NN Accuracy (Rank-1): 21.79%\n"
          ]
        },
        {
          "data": {
            "application/vnd.jupyter.widget-view+json": {
              "model_id": "acc4838657a44aafa83baa10ecb66a25",
              "version_major": 2,
              "version_minor": 0
            },
            "text/plain": [
              "Epoch 27/40:   0%|          | 0/69 [00:00<?, ?it/s]"
            ]
          },
          "metadata": {},
          "output_type": "display_data"
        },
        {
          "name": "stdout",
          "output_type": "stream",
          "text": [
            "\n",
            "Epoch 27 done. Avg Triplet Train Loss: 0.3025\n",
            "Validation k-NN Accuracy (Rank-1): 21.61%\n"
          ]
        },
        {
          "data": {
            "application/vnd.jupyter.widget-view+json": {
              "model_id": "cddaf5ef5229463fb226185d9fd50c6e",
              "version_major": 2,
              "version_minor": 0
            },
            "text/plain": [
              "Epoch 28/40:   0%|          | 0/69 [00:00<?, ?it/s]"
            ]
          },
          "metadata": {},
          "output_type": "display_data"
        },
        {
          "name": "stdout",
          "output_type": "stream",
          "text": [
            "\n",
            "Epoch 28 done. Avg Triplet Train Loss: 0.3009\n",
            "Validation k-NN Accuracy (Rank-1): 21.52%\n"
          ]
        },
        {
          "data": {
            "application/vnd.jupyter.widget-view+json": {
              "model_id": "517da7b32b8841429e0f476e1165f519",
              "version_major": 2,
              "version_minor": 0
            },
            "text/plain": [
              "Epoch 29/40:   0%|          | 0/69 [00:00<?, ?it/s]"
            ]
          },
          "metadata": {},
          "output_type": "display_data"
        },
        {
          "name": "stdout",
          "output_type": "stream",
          "text": [
            "\n",
            "Epoch 29 done. Avg Triplet Train Loss: 0.2993\n",
            "Validation k-NN Accuracy (Rank-1): 21.17%\n"
          ]
        },
        {
          "data": {
            "application/vnd.jupyter.widget-view+json": {
              "model_id": "2c3eef949dc141ecabf51392f245821f",
              "version_major": 2,
              "version_minor": 0
            },
            "text/plain": [
              "Epoch 30/40:   0%|          | 0/69 [00:00<?, ?it/s]"
            ]
          },
          "metadata": {},
          "output_type": "display_data"
        },
        {
          "name": "stdout",
          "output_type": "stream",
          "text": [
            "\n",
            "Epoch 30 done. Avg Triplet Train Loss: 0.2974\n",
            "Validation k-NN Accuracy (Rank-1): 20.99%\n"
          ]
        },
        {
          "data": {
            "application/vnd.jupyter.widget-view+json": {
              "model_id": "58f65b659ed94a79bf1b2b990fddd59a",
              "version_major": 2,
              "version_minor": 0
            },
            "text/plain": [
              "Epoch 31/40:   0%|          | 0/69 [00:00<?, ?it/s]"
            ]
          },
          "metadata": {},
          "output_type": "display_data"
        },
        {
          "name": "stdout",
          "output_type": "stream",
          "text": [
            "\n",
            "Epoch 31 done. Avg Triplet Train Loss: 0.2961\n",
            "Validation k-NN Accuracy (Rank-1): 21.35%\n"
          ]
        },
        {
          "data": {
            "application/vnd.jupyter.widget-view+json": {
              "model_id": "6d1cf6389c94487294b48559c80265c1",
              "version_major": 2,
              "version_minor": 0
            },
            "text/plain": [
              "Epoch 32/40:   0%|          | 0/69 [00:00<?, ?it/s]"
            ]
          },
          "metadata": {},
          "output_type": "display_data"
        },
        {
          "name": "stdout",
          "output_type": "stream",
          "text": [
            "\n",
            "Epoch 32 done. Avg Triplet Train Loss: 0.2946\n",
            "Validation k-NN Accuracy (Rank-1): 20.72%\n"
          ]
        },
        {
          "data": {
            "application/vnd.jupyter.widget-view+json": {
              "model_id": "c68e903acc084313abf95f2b45a3f9ea",
              "version_major": 2,
              "version_minor": 0
            },
            "text/plain": [
              "Epoch 33/40:   0%|          | 0/69 [00:00<?, ?it/s]"
            ]
          },
          "metadata": {},
          "output_type": "display_data"
        },
        {
          "name": "stdout",
          "output_type": "stream",
          "text": [
            "\n",
            "Epoch 33 done. Avg Triplet Train Loss: 0.2935\n",
            "Validation k-NN Accuracy (Rank-1): 21.35%\n"
          ]
        },
        {
          "data": {
            "application/vnd.jupyter.widget-view+json": {
              "model_id": "53543cd9e0204307aa854f5051501ec8",
              "version_major": 2,
              "version_minor": 0
            },
            "text/plain": [
              "Epoch 34/40:   0%|          | 0/69 [00:00<?, ?it/s]"
            ]
          },
          "metadata": {},
          "output_type": "display_data"
        },
        {
          "name": "stdout",
          "output_type": "stream",
          "text": [
            "\n",
            "Epoch 34 done. Avg Triplet Train Loss: 0.2922\n",
            "Validation k-NN Accuracy (Rank-1): 20.63%\n"
          ]
        },
        {
          "data": {
            "application/vnd.jupyter.widget-view+json": {
              "model_id": "3cd1f636d99d4c82be11d3f202a5fa28",
              "version_major": 2,
              "version_minor": 0
            },
            "text/plain": [
              "Epoch 35/40:   0%|          | 0/69 [00:00<?, ?it/s]"
            ]
          },
          "metadata": {},
          "output_type": "display_data"
        },
        {
          "name": "stdout",
          "output_type": "stream",
          "text": [
            "\n",
            "Epoch 35 done. Avg Triplet Train Loss: 0.2910\n",
            "Validation k-NN Accuracy (Rank-1): 20.81%\n"
          ]
        },
        {
          "data": {
            "application/vnd.jupyter.widget-view+json": {
              "model_id": "574682309bc144d5afeca938d749182c",
              "version_major": 2,
              "version_minor": 0
            },
            "text/plain": [
              "Epoch 36/40:   0%|          | 0/69 [00:00<?, ?it/s]"
            ]
          },
          "metadata": {},
          "output_type": "display_data"
        },
        {
          "name": "stdout",
          "output_type": "stream",
          "text": [
            "\n",
            "Epoch 36 done. Avg Triplet Train Loss: 0.2899\n",
            "Validation k-NN Accuracy (Rank-1): 20.27%\n"
          ]
        },
        {
          "data": {
            "application/vnd.jupyter.widget-view+json": {
              "model_id": "b5ae4a36d7554200b1c65ee62d5818bb",
              "version_major": 2,
              "version_minor": 0
            },
            "text/plain": [
              "Epoch 37/40:   0%|          | 0/69 [00:00<?, ?it/s]"
            ]
          },
          "metadata": {},
          "output_type": "display_data"
        },
        {
          "name": "stdout",
          "output_type": "stream",
          "text": [
            "\n",
            "Epoch 37 done. Avg Triplet Train Loss: 0.2888\n",
            "Validation k-NN Accuracy (Rank-1): 20.63%\n"
          ]
        },
        {
          "data": {
            "application/vnd.jupyter.widget-view+json": {
              "model_id": "409874abfc9248dab5f2d2dd9c3520ba",
              "version_major": 2,
              "version_minor": 0
            },
            "text/plain": [
              "Epoch 38/40:   0%|          | 0/69 [00:00<?, ?it/s]"
            ]
          },
          "metadata": {},
          "output_type": "display_data"
        },
        {
          "name": "stdout",
          "output_type": "stream",
          "text": [
            "\n",
            "Epoch 38 done. Avg Triplet Train Loss: 0.2877\n",
            "Validation k-NN Accuracy (Rank-1): 20.54%\n"
          ]
        },
        {
          "data": {
            "application/vnd.jupyter.widget-view+json": {
              "model_id": "9e396ada58794b00b2dd1a7541a8c892",
              "version_major": 2,
              "version_minor": 0
            },
            "text/plain": [
              "Epoch 39/40:   0%|          | 0/69 [00:00<?, ?it/s]"
            ]
          },
          "metadata": {},
          "output_type": "display_data"
        },
        {
          "name": "stdout",
          "output_type": "stream",
          "text": [
            "\n",
            "Epoch 39 done. Avg Triplet Train Loss: 0.2867\n",
            "Validation k-NN Accuracy (Rank-1): 21.35%\n"
          ]
        },
        {
          "data": {
            "application/vnd.jupyter.widget-view+json": {
              "model_id": "a1606c651298415c98825fd893428be3",
              "version_major": 2,
              "version_minor": 0
            },
            "text/plain": [
              "Epoch 40/40:   0%|          | 0/69 [00:00<?, ?it/s]"
            ]
          },
          "metadata": {},
          "output_type": "display_data"
        },
        {
          "name": "stdout",
          "output_type": "stream",
          "text": [
            "\n",
            "Epoch 40 done. Avg Triplet Train Loss: 0.2856\n",
            "Validation k-NN Accuracy (Rank-1): 21.52%\n"
          ]
        }
      ],
      "source": [
        "from tqdm.notebook import tqdm\n",
        "import torch\n",
        "import torch.nn.functional as F\n",
        "from torch.optim.lr_scheduler import CosineAnnealingLR\n",
        "\n",
        "def validate_with_knn(model, val_loader, device):\n",
        "    \"\"\"\n",
        "    Проводит валидацию модели, обученной на метрическом лоссе,\n",
        "    с помощью метода k-ближайших соседей (k=1), что эквивалентно Rank-1 accuracy.\n",
        "    \"\"\"\n",
        "    model.eval()\n",
        "    \n",
        "    all_embeddings = []\n",
        "    all_labels = []\n",
        "    \n",
        "    with torch.no_grad():\n",
        "        for imgs, labels in val_loader:\n",
        "            imgs = imgs.to(device)\n",
        "            embeddings = model(imgs)\n",
        "            embeddings = F.normalize(embeddings, p=2, dim=1) \n",
        "            \n",
        "            all_embeddings.append(embeddings.cpu())\n",
        "            all_labels.append(labels.cpu())\n",
        "            \n",
        "    gallery_embeddings = torch.cat(all_embeddings, dim=0)\n",
        "    gallery_labels = torch.cat(all_labels, dim=0)\n",
        "    \n",
        "    if len(gallery_labels) == 0:\n",
        "        return 0.0\n",
        "\n",
        "    similarity_matrix = torch.mm(gallery_embeddings, gallery_embeddings.T)\n",
        "    \n",
        "    similarity_matrix.fill_diagonal_(-1)\n",
        "    \n",
        "    _, nearest_indices = torch.max(similarity_matrix, dim=1)\n",
        "    \n",
        "    predicted_labels = gallery_labels[nearest_indices]\n",
        "    correct_predictions = (predicted_labels == gallery_labels).sum().item()\n",
        "    \n",
        "    accuracy = 100.0 * correct_predictions / len(gallery_labels)\n",
        "    \n",
        "    return accuracy\n",
        "\n",
        "\n",
        "EMBEDDING_SIZE = 512\n",
        "EPOCHS = 40\n",
        "LR = 3e-5\n",
        "\n",
        "CHECKPOINT_PATH = \"./models/learn_facerec_triplet_only_best.pth\"\n",
        "CHECHPOINT_FROM_ZADANIE_2 = \"./models/face_rec_zadanie2.pth\"\n",
        "\n",
        "facerec_model = get_recognition_model(embedding_size=EMBEDDING_SIZE).to(device)\n",
        "facerec_model.load_state_dict(torch.load(CHECHPOINT_FROM_ZADANIE_2))\n",
        "\n",
        "optimizer = torch.optim.AdamW(facerec_model.parameters(), lr=LR)\n",
        "scheduler = CosineAnnealingLR(optimizer, T_max=EPOCHS, eta_min=1e-5) \n",
        "\n",
        "best_val_accuracy = 0.0\n",
        "\n",
        "print(\"Starting training with Triplet Loss only...\")\n",
        "\n",
        "for epoch in range(EPOCHS):\n",
        "    facerec_model.train()\n",
        "    \n",
        "    total_train_loss = 0\n",
        "    \n",
        "    num_batches = len(train_sampler) // train_sampler.batch_size\n",
        "    progress_bar = tqdm(train_loader, total=num_batches, desc=f\"Epoch {epoch+1}/{EPOCHS}\")\n",
        "    \n",
        "    for imgs, labels in progress_bar:\n",
        "        imgs = imgs.to(device)\n",
        "        labels = labels.to(device)\n",
        "        \n",
        "        optimizer.zero_grad()\n",
        "        \n",
        "        embeddings = facerec_model(imgs)\n",
        "        embeddings = F.normalize(embeddings, p=2, dim=1)\n",
        "        \n",
        "        loss = get_hard_triplets(embeddings, labels)\n",
        "        \n",
        "        loss.backward()\n",
        "        optimizer.step()\n",
        "        \n",
        "        total_train_loss += loss.item()\n",
        "        \n",
        "        progress_bar.set_postfix(loss=loss.item())\n",
        "\n",
        "    scheduler.step()\n",
        "    \n",
        "    avg_train_loss = total_train_loss / num_batches\n",
        "    \n",
        "    val_accuracy = validate_with_knn(facerec_model, val_loader, device)\n",
        "    \n",
        "    print(f\"\\nEpoch {epoch+1} done. Avg Triplet Train Loss: {avg_train_loss:.4f}\")\n",
        "    print(f\"Validation k-NN Accuracy (Rank-1): {val_accuracy:.2f}%\")\n",
        "    \n",
        "    if val_accuracy > best_val_accuracy:\n",
        "        best_val_accuracy = val_accuracy\n",
        "        torch.save(facerec_model.state_dict(), CHECKPOINT_PATH)\n",
        "        print(f\"model saved, Accuracy: {best_val_accuracy:.2f}% at epoch {epoch+1}\")\n"
      ]
    },
    {
      "cell_type": "markdown",
      "metadata": {},
      "source": [
        "### ArcFace + Tripletloss"
      ]
    },
    {
      "cell_type": "code",
      "execution_count": 7,
      "metadata": {
        "id": "JknUpnIvvtFA"
      },
      "outputs": [
        {
          "data": {
            "application/vnd.jupyter.widget-view+json": {
              "model_id": "a992b675eed943939494b1be018ecbf5",
              "version_major": 2,
              "version_minor": 0
            },
            "text/plain": [
              "Epoch 1/20:   0%|          | 0/69 [00:00<?, ?it/s]"
            ]
          },
          "metadata": {},
          "output_type": "display_data"
        },
        {
          "name": "stdout",
          "output_type": "stream",
          "text": [
            "\n",
            "Epoch 1 done. Avg Train Loss: 29.2352 (ArcFace: 25.4927, Triplet: 0.7485)\n",
            "Validation Accuracy: 1.88%\n",
            "model saved, Accuracy: 1.88% at epoch 1\n"
          ]
        },
        {
          "data": {
            "application/vnd.jupyter.widget-view+json": {
              "model_id": "ef8a16608b9e4bdb869c8711e63c5c5c",
              "version_major": 2,
              "version_minor": 0
            },
            "text/plain": [
              "Epoch 2/20:   0%|          | 0/69 [00:00<?, ?it/s]"
            ]
          },
          "metadata": {},
          "output_type": "display_data"
        },
        {
          "name": "stdout",
          "output_type": "stream",
          "text": [
            "\n",
            "Epoch 2 done. Avg Train Loss: 26.6383 (ArcFace: 24.2469, Triplet: 0.4783)\n",
            "Validation Accuracy: 3.41%\n",
            "model saved, Accuracy: 3.41% at epoch 2\n"
          ]
        },
        {
          "data": {
            "application/vnd.jupyter.widget-view+json": {
              "model_id": "e548669631e14cc4b5036ca25a86be64",
              "version_major": 2,
              "version_minor": 0
            },
            "text/plain": [
              "Epoch 3/20:   0%|          | 0/69 [00:00<?, ?it/s]"
            ]
          },
          "metadata": {},
          "output_type": "display_data"
        },
        {
          "name": "stdout",
          "output_type": "stream",
          "text": [
            "\n",
            "Epoch 3 done. Avg Train Loss: 26.0565 (ArcFace: 23.7402, Triplet: 0.4633)\n",
            "Validation Accuracy: 8.52%\n",
            "model saved, Accuracy: 8.52% at epoch 3\n"
          ]
        },
        {
          "data": {
            "application/vnd.jupyter.widget-view+json": {
              "model_id": "29779c437f914bc1956b4454b2a2e1fa",
              "version_major": 2,
              "version_minor": 0
            },
            "text/plain": [
              "Epoch 4/20:   0%|          | 0/69 [00:00<?, ?it/s]"
            ]
          },
          "metadata": {},
          "output_type": "display_data"
        },
        {
          "name": "stdout",
          "output_type": "stream",
          "text": [
            "\n",
            "Epoch 4 done. Avg Train Loss: 25.6462 (ArcFace: 23.3022, Triplet: 0.4688)\n",
            "Validation Accuracy: 16.95%\n",
            "model saved, Accuracy: 16.95% at epoch 4\n"
          ]
        },
        {
          "data": {
            "application/vnd.jupyter.widget-view+json": {
              "model_id": "9197ef58390548e1ae2b72264d187fac",
              "version_major": 2,
              "version_minor": 0
            },
            "text/plain": [
              "Epoch 5/20:   0%|          | 0/69 [00:00<?, ?it/s]"
            ]
          },
          "metadata": {},
          "output_type": "display_data"
        },
        {
          "name": "stdout",
          "output_type": "stream",
          "text": [
            "\n",
            "Epoch 5 done. Avg Train Loss: 25.0800 (ArcFace: 22.6765, Triplet: 0.4807)\n",
            "Validation Accuracy: 19.64%\n",
            "model saved, Accuracy: 19.64% at epoch 5\n"
          ]
        },
        {
          "data": {
            "application/vnd.jupyter.widget-view+json": {
              "model_id": "1ca2c75af426449ba39be9e4449b77ed",
              "version_major": 2,
              "version_minor": 0
            },
            "text/plain": [
              "Epoch 6/20:   0%|          | 0/69 [00:00<?, ?it/s]"
            ]
          },
          "metadata": {},
          "output_type": "display_data"
        },
        {
          "name": "stdout",
          "output_type": "stream",
          "text": [
            "\n",
            "Epoch 6 done. Avg Train Loss: 24.5485 (ArcFace: 22.0638, Triplet: 0.4969)\n",
            "Validation Accuracy: 20.09%\n",
            "model saved, Accuracy: 20.09% at epoch 6\n"
          ]
        },
        {
          "data": {
            "application/vnd.jupyter.widget-view+json": {
              "model_id": "971459e1a42145d188cb8ca866fef156",
              "version_major": 2,
              "version_minor": 0
            },
            "text/plain": [
              "Epoch 7/20:   0%|          | 0/69 [00:00<?, ?it/s]"
            ]
          },
          "metadata": {},
          "output_type": "display_data"
        },
        {
          "name": "stdout",
          "output_type": "stream",
          "text": [
            "\n",
            "Epoch 7 done. Avg Train Loss: 24.1210 (ArcFace: 21.5805, Triplet: 0.5081)\n",
            "Validation Accuracy: 17.49%\n"
          ]
        },
        {
          "data": {
            "application/vnd.jupyter.widget-view+json": {
              "model_id": "9a7fc754789e4e8b8c884693276bc391",
              "version_major": 2,
              "version_minor": 0
            },
            "text/plain": [
              "Epoch 8/20:   0%|          | 0/69 [00:00<?, ?it/s]"
            ]
          },
          "metadata": {},
          "output_type": "display_data"
        },
        {
          "name": "stdout",
          "output_type": "stream",
          "text": [
            "\n",
            "Epoch 8 done. Avg Train Loss: 23.6928 (ArcFace: 21.0935, Triplet: 0.5199)\n",
            "Validation Accuracy: 25.02%\n",
            "model saved, Accuracy: 25.02% at epoch 8\n"
          ]
        },
        {
          "data": {
            "application/vnd.jupyter.widget-view+json": {
              "model_id": "e7279c8a14144ca993576b015a50e2e8",
              "version_major": 2,
              "version_minor": 0
            },
            "text/plain": [
              "Epoch 9/20:   0%|          | 0/69 [00:00<?, ?it/s]"
            ]
          },
          "metadata": {},
          "output_type": "display_data"
        },
        {
          "name": "stdout",
          "output_type": "stream",
          "text": [
            "\n",
            "Epoch 9 done. Avg Train Loss: 22.7759 (ArcFace: 20.0601, Triplet: 0.5432)\n",
            "Validation Accuracy: 31.48%\n",
            "model saved, Accuracy: 31.48% at epoch 9\n"
          ]
        },
        {
          "data": {
            "application/vnd.jupyter.widget-view+json": {
              "model_id": "ba0333a617b440649bad967c12820615",
              "version_major": 2,
              "version_minor": 0
            },
            "text/plain": [
              "Epoch 10/20:   0%|          | 0/69 [00:00<?, ?it/s]"
            ]
          },
          "metadata": {},
          "output_type": "display_data"
        },
        {
          "name": "stdout",
          "output_type": "stream",
          "text": [
            "\n",
            "Epoch 10 done. Avg Train Loss: 22.0330 (ArcFace: 19.2282, Triplet: 0.5610)\n",
            "Validation Accuracy: 40.90%\n",
            "model saved, Accuracy: 40.90% at epoch 10\n"
          ]
        },
        {
          "data": {
            "application/vnd.jupyter.widget-view+json": {
              "model_id": "8df5f340a1464d5c8db0307da28ad787",
              "version_major": 2,
              "version_minor": 0
            },
            "text/plain": [
              "Epoch 11/20:   0%|          | 0/69 [00:00<?, ?it/s]"
            ]
          },
          "metadata": {},
          "output_type": "display_data"
        },
        {
          "name": "stdout",
          "output_type": "stream",
          "text": [
            "\n",
            "Epoch 11 done. Avg Train Loss: 21.7650 (ArcFace: 18.8618, Triplet: 0.5807)\n",
            "Validation Accuracy: 49.51%\n",
            "model saved, Accuracy: 49.51% at epoch 11\n"
          ]
        },
        {
          "data": {
            "application/vnd.jupyter.widget-view+json": {
              "model_id": "b1c47b192eb246febe11b5a1c1fb181f",
              "version_major": 2,
              "version_minor": 0
            },
            "text/plain": [
              "Epoch 12/20:   0%|          | 0/69 [00:00<?, ?it/s]"
            ]
          },
          "metadata": {},
          "output_type": "display_data"
        },
        {
          "name": "stdout",
          "output_type": "stream",
          "text": [
            "\n",
            "Epoch 12 done. Avg Train Loss: 20.3880 (ArcFace: 17.3362, Triplet: 0.6104)\n",
            "Validation Accuracy: 53.27%\n",
            "model saved, Accuracy: 53.27% at epoch 12\n"
          ]
        },
        {
          "data": {
            "application/vnd.jupyter.widget-view+json": {
              "model_id": "8c50aa4bf2944322b9b03c49bd982f8e",
              "version_major": 2,
              "version_minor": 0
            },
            "text/plain": [
              "Epoch 13/20:   0%|          | 0/69 [00:00<?, ?it/s]"
            ]
          },
          "metadata": {},
          "output_type": "display_data"
        },
        {
          "name": "stdout",
          "output_type": "stream",
          "text": [
            "\n",
            "Epoch 13 done. Avg Train Loss: 18.6354 (ArcFace: 15.4206, Triplet: 0.6429)\n",
            "Validation Accuracy: 58.03%\n",
            "model saved, Accuracy: 58.03% at epoch 13\n"
          ]
        },
        {
          "data": {
            "application/vnd.jupyter.widget-view+json": {
              "model_id": "6c1b58f57da244938b0ab419854ac061",
              "version_major": 2,
              "version_minor": 0
            },
            "text/plain": [
              "Epoch 14/20:   0%|          | 0/69 [00:00<?, ?it/s]"
            ]
          },
          "metadata": {},
          "output_type": "display_data"
        },
        {
          "name": "stdout",
          "output_type": "stream",
          "text": [
            "\n",
            "Epoch 14 done. Avg Train Loss: 17.5083 (ArcFace: 14.1197, Triplet: 0.6777)\n",
            "Validation Accuracy: 60.54%\n",
            "model saved, Accuracy: 60.54% at epoch 14\n"
          ]
        },
        {
          "data": {
            "application/vnd.jupyter.widget-view+json": {
              "model_id": "6daf13453ef24f9f8dd020c412ba110d",
              "version_major": 2,
              "version_minor": 0
            },
            "text/plain": [
              "Epoch 15/20:   0%|          | 0/69 [00:00<?, ?it/s]"
            ]
          },
          "metadata": {},
          "output_type": "display_data"
        },
        {
          "name": "stdout",
          "output_type": "stream",
          "text": [
            "\n",
            "Epoch 15 done. Avg Train Loss: 16.9895 (ArcFace: 13.5075, Triplet: 0.6964)\n",
            "Validation Accuracy: 65.65%\n",
            "model saved, Accuracy: 65.65% at epoch 15\n"
          ]
        },
        {
          "data": {
            "application/vnd.jupyter.widget-view+json": {
              "model_id": "f3ecebea7e034c9e931c885716c16b94",
              "version_major": 2,
              "version_minor": 0
            },
            "text/plain": [
              "Epoch 16/20:   0%|          | 0/69 [00:00<?, ?it/s]"
            ]
          },
          "metadata": {},
          "output_type": "display_data"
        },
        {
          "name": "stdout",
          "output_type": "stream",
          "text": [
            "\n",
            "Epoch 16 done. Avg Train Loss: 15.7178 (ArcFace: 12.1034, Triplet: 0.7229)\n",
            "Validation Accuracy: 69.87%\n",
            "model saved, Accuracy: 69.87% at epoch 16\n"
          ]
        },
        {
          "data": {
            "application/vnd.jupyter.widget-view+json": {
              "model_id": "3b7b6115630942949595ab33bca9a840",
              "version_major": 2,
              "version_minor": 0
            },
            "text/plain": [
              "Epoch 17/20:   0%|          | 0/69 [00:00<?, ?it/s]"
            ]
          },
          "metadata": {},
          "output_type": "display_data"
        },
        {
          "name": "stdout",
          "output_type": "stream",
          "text": [
            "\n",
            "Epoch 17 done. Avg Train Loss: 15.2444 (ArcFace: 11.5638, Triplet: 0.7361)\n",
            "Validation Accuracy: 69.15%\n"
          ]
        },
        {
          "data": {
            "application/vnd.jupyter.widget-view+json": {
              "model_id": "0bc20e55c31b41c78b10256a542cc89e",
              "version_major": 2,
              "version_minor": 0
            },
            "text/plain": [
              "Epoch 18/20:   0%|          | 0/69 [00:00<?, ?it/s]"
            ]
          },
          "metadata": {},
          "output_type": "display_data"
        },
        {
          "name": "stdout",
          "output_type": "stream",
          "text": [
            "\n",
            "Epoch 18 done. Avg Train Loss: 14.5760 (ArcFace: 10.8141, Triplet: 0.7524)\n",
            "Validation Accuracy: 71.30%\n",
            "model saved, Accuracy: 71.30% at epoch 18\n"
          ]
        },
        {
          "data": {
            "application/vnd.jupyter.widget-view+json": {
              "model_id": "0f0f596fca7f4793bac58e5e35004ca5",
              "version_major": 2,
              "version_minor": 0
            },
            "text/plain": [
              "Epoch 19/20:   0%|          | 0/69 [00:00<?, ?it/s]"
            ]
          },
          "metadata": {},
          "output_type": "display_data"
        },
        {
          "name": "stdout",
          "output_type": "stream",
          "text": [
            "\n",
            "Epoch 19 done. Avg Train Loss: 14.0741 (ArcFace: 10.2798, Triplet: 0.7589)\n",
            "Validation Accuracy: 71.84%\n",
            "model saved, Accuracy: 71.84% at epoch 19\n"
          ]
        },
        {
          "data": {
            "application/vnd.jupyter.widget-view+json": {
              "model_id": "d037ef850c3b48329023f8a724a8ffdc",
              "version_major": 2,
              "version_minor": 0
            },
            "text/plain": [
              "Epoch 20/20:   0%|          | 0/69 [00:00<?, ?it/s]"
            ]
          },
          "metadata": {},
          "output_type": "display_data"
        },
        {
          "name": "stdout",
          "output_type": "stream",
          "text": [
            "\n",
            "Epoch 20 done. Avg Train Loss: 13.6458 (ArcFace: 9.8112, Triplet: 0.7669)\n",
            "Validation Accuracy: 72.02%\n",
            "model saved, Accuracy: 72.02% at epoch 20\n"
          ]
        }
      ],
      "source": [
        "import itertools\n",
        "from tqdm.notebook import tqdm\n",
        "\n",
        "N_PEOPLE_IN_DATASET = len(dataset.classes) \n",
        "EMBEDDING_SIZE = 512\n",
        "EPOCHS = 20\n",
        "LR = 3e-4\n",
        "TRIPLET_WEIGHT = 5.0 \n",
        "\n",
        "facerec_model = get_recognition_model(embedding_size=EMBEDDING_SIZE).to(device)\n",
        "\n",
        "arcface_loss_fn = ArcFaceLoss(num_classes=N_PEOPLE_IN_DATASET, embedding_size=EMBEDDING_SIZE, margin=0.3).to(device)\n",
        "\n",
        "optimizer = torch.optim.AdamW(\n",
        "    itertools.chain(facerec_model.parameters(), arcface_loss_fn.parameters()), \n",
        "    lr=LR\n",
        ")\n",
        "scheduler = CosineAnnealingLR(optimizer, T_max=EPOCHS, eta_min=1e-5) \n",
        "\n",
        "best_val_accuracy = 0.0\n",
        "\n",
        "for epoch in range(EPOCHS):\n",
        "    facerec_model.train()\n",
        "    arcface_loss_fn.train()\n",
        "    \n",
        "    total_train_loss = 0\n",
        "    total_arcface_loss = 0\n",
        "    total_triplet_loss = 0\n",
        "    \n",
        "    num_batches = len(train_sampler) // train_sampler.batch_size\n",
        "    progress_bar = tqdm(train_loader, total=num_batches, desc=f\"Epoch {epoch+1}/{EPOCHS}\")\n",
        "    \n",
        "    for imgs, labels in progress_bar:\n",
        "        imgs = imgs.to(device)\n",
        "        labels = labels.to(device)\n",
        "        \n",
        "        optimizer.zero_grad()\n",
        "        \n",
        "        embeddings = facerec_model(imgs)\n",
        "        embeddings = F.normalize(embeddings, p=2, dim=1)\n",
        "        \n",
        "        loss_arcface = arcface_loss_fn(embeddings, labels)\n",
        "        loss_triplet = get_hard_triplets(embeddings, labels)\n",
        "        \n",
        "        total_loss = loss_arcface + TRIPLET_WEIGHT * loss_triplet\n",
        "        \n",
        "        total_loss.backward()\n",
        "        optimizer.step()\n",
        "        \n",
        "        total_train_loss += total_loss.item()\n",
        "        total_arcface_loss += loss_arcface.item()\n",
        "        total_triplet_loss += loss_triplet.item()\n",
        "\n",
        "    scheduler.step()\n",
        "    \n",
        "    avg_train_loss = total_train_loss / num_batches\n",
        "    avg_arcface_loss = total_arcface_loss / num_batches\n",
        "    avg_triplet_loss = total_triplet_loss / num_batches\n",
        "    \n",
        "    print(f\"\\nEpoch {epoch+1} done. Avg Train Loss: {avg_train_loss:.4f} \"\n",
        "          f\"(ArcFace: {avg_arcface_loss:.4f}, Triplet: {avg_triplet_loss:.4f})\")\n",
        "    \n",
        "    facerec_model.eval()\n",
        "    arcface_loss_fn.eval()\n",
        "    val_correct = 0\n",
        "    val_total = 0\n",
        "    with torch.no_grad():\n",
        "        for imgs, labels in val_loader:\n",
        "            imgs, labels = imgs.to(device), labels.to(device)\n",
        "            embeddings = F.normalize(facerec_model(imgs), p=2, dim=1)\n",
        "            W_norm = F.normalize(arcface_loss_fn.W, p=2, dim=1)\n",
        "            logits = torch.mm(embeddings, W_norm.T) * arcface_loss_fn.s\n",
        "            _, predicted = torch.max(logits, 1)\n",
        "            val_total += labels.size(0)\n",
        "            val_correct += (predicted == labels).sum().item()\n",
        "            \n",
        "    val_accuracy = 100 * val_correct / val_total\n",
        "    print(f\"Validation Accuracy: {val_accuracy:.2f}%\")\n",
        "    \n",
        "    if val_accuracy > best_val_accuracy:\n",
        "        best_val_accuracy = val_accuracy\n",
        "        torch.save(facerec_model.state_dict(), './models/learn_facerec_triplet_arc.pth')\n",
        "        torch.save(arcface_loss_fn.state_dict(), './models/learn_lossfn_triplet_arc.pth')\n",
        "        print(f\"model saved, Accuracy: {best_val_accuracy:.2f}% at epoch {epoch+1}\")\n"
      ]
    },
    {
      "cell_type": "code",
      "execution_count": null,
      "metadata": {},
      "outputs": [],
      "source": []
    },
    {
      "cell_type": "code",
      "execution_count": null,
      "metadata": {},
      "outputs": [],
      "source": []
    }
  ],
  "metadata": {
    "colab": {
      "provenance": []
    },
    "kernelspec": {
      "display_name": "Python 3",
      "name": "python3"
    },
    "language_info": {
      "codemirror_mode": {
        "name": "ipython",
        "version": 3
      },
      "file_extension": ".py",
      "mimetype": "text/x-python",
      "name": "python",
      "nbconvert_exporter": "python",
      "pygments_lexer": "ipython3",
      "version": "3.11.9"
    }
  },
  "nbformat": 4,
  "nbformat_minor": 0
}
