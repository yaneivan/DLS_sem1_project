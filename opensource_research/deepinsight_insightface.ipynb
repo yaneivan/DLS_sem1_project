{
 "cells": [
  {
   "cell_type": "markdown",
   "id": "7dd979b7",
   "metadata": {},
   "source": [
    "https://github.com/deepinsight/insightface\n",
    "\n",
    "Сборник инструментов для face regonition, face detection, face alignment. И для обучения, и для разворачивания. "
   ]
  },
  {
   "cell_type": "code",
   "execution_count": 1,
   "id": "a2e5e5b5",
   "metadata": {},
   "outputs": [
    {
     "name": "stderr",
     "output_type": "stream",
     "text": [
      "C:\\Users\\admin\\AppData\\Roaming\\Python\\Python311\\site-packages\\onnxruntime\\capi\\onnxruntime_inference_collection.py:69: UserWarning: Specified provider 'CUDAExecutionProvider' is not in available provider names.Available providers: 'AzureExecutionProvider, CPUExecutionProvider'\n",
      "  warnings.warn(\n"
     ]
    },
    {
     "name": "stdout",
     "output_type": "stream",
     "text": [
      "Applied providers: ['CPUExecutionProvider'], with options: {'CPUExecutionProvider': {}}\n",
      "find model: C:\\Users\\admin/.insightface\\models\\buffalo_l\\1k3d68.onnx landmark_3d_68 ['None', 3, 192, 192] 0.0 1.0\n",
      "Applied providers: ['CPUExecutionProvider'], with options: {'CPUExecutionProvider': {}}\n",
      "find model: C:\\Users\\admin/.insightface\\models\\buffalo_l\\2d106det.onnx landmark_2d_106 ['None', 3, 192, 192] 0.0 1.0\n",
      "Applied providers: ['CPUExecutionProvider'], with options: {'CPUExecutionProvider': {}}\n",
      "find model: C:\\Users\\admin/.insightface\\models\\buffalo_l\\det_10g.onnx detection [1, 3, '?', '?'] 127.5 128.0\n",
      "Applied providers: ['CPUExecutionProvider'], with options: {'CPUExecutionProvider': {}}\n",
      "find model: C:\\Users\\admin/.insightface\\models\\buffalo_l\\genderage.onnx genderage ['None', 3, 96, 96] 0.0 1.0\n",
      "Applied providers: ['CPUExecutionProvider'], with options: {'CPUExecutionProvider': {}}\n",
      "find model: C:\\Users\\admin/.insightface\\models\\buffalo_l\\w600k_r50.onnx recognition ['None', 3, 112, 112] 127.5 127.5\n",
      "set det-size: (640, 640)\n"
     ]
    },
    {
     "name": "stderr",
     "output_type": "stream",
     "text": [
      "c:\\Users\\admin\\.pyenv\\pyenv-win\\versions\\3.11.9\\Lib\\site-packages\\insightface\\utils\\transform.py:68: FutureWarning: `rcond` parameter will change to the default of machine precision times ``max(M, N)`` where M and N are the input matrix dimensions.\n",
      "To use the future default and silence this warning we advise to pass `rcond=None`, to keep using the old, explicitly pass `rcond=-1`.\n",
      "  P = np.linalg.lstsq(X_homo, Y)[0].T # Affine matrix. 3 x 4\n"
     ]
    },
    {
     "ename": "AttributeError",
     "evalue": "module 'numpy' has no attribute 'int'.\n`np.int` was a deprecated alias for the builtin `int`. To avoid this error in existing code, use `int` by itself. Doing this will not modify any behavior and is safe. When replacing `np.int`, you may wish to use e.g. `np.int64` or `np.int32` to specify the precision. If you wish to review your current use, check the release note link for additional information.\nThe aliases was originally deprecated in NumPy 1.20; for more details and guidance see the original release note at:\n    https://numpy.org/devdocs/release/1.20.0-notes.html#deprecations",
     "output_type": "error",
     "traceback": [
      "\u001b[31m---------------------------------------------------------------------------\u001b[39m",
      "\u001b[31mAttributeError\u001b[39m                            Traceback (most recent call last)",
      "\u001b[36mCell\u001b[39m\u001b[36m \u001b[39m\u001b[32mIn[1]\u001b[39m\u001b[32m, line 11\u001b[39m\n\u001b[32m      9\u001b[39m img = ins_get_image(\u001b[33m'\u001b[39m\u001b[33mt1\u001b[39m\u001b[33m'\u001b[39m)\n\u001b[32m     10\u001b[39m faces = app.get(img)\n\u001b[32m---> \u001b[39m\u001b[32m11\u001b[39m rimg = \u001b[43mapp\u001b[49m\u001b[43m.\u001b[49m\u001b[43mdraw_on\u001b[49m\u001b[43m(\u001b[49m\u001b[43mimg\u001b[49m\u001b[43m,\u001b[49m\u001b[43m \u001b[49m\u001b[43mfaces\u001b[49m\u001b[43m)\u001b[49m\n\u001b[32m     12\u001b[39m cv2.imwrite(\u001b[33m\"\u001b[39m\u001b[33m./t1_output.jpg\u001b[39m\u001b[33m\"\u001b[39m, rimg)\n",
      "\u001b[36mFile \u001b[39m\u001b[32mc:\\Users\\admin\\.pyenv\\pyenv-win\\versions\\3.11.9\\Lib\\site-packages\\insightface\\app\\face_analysis.py:84\u001b[39m, in \u001b[36mFaceAnalysis.draw_on\u001b[39m\u001b[34m(self, img, faces)\u001b[39m\n\u001b[32m     82\u001b[39m \u001b[38;5;28;01mfor\u001b[39;00m i \u001b[38;5;129;01min\u001b[39;00m \u001b[38;5;28mrange\u001b[39m(\u001b[38;5;28mlen\u001b[39m(faces)):\n\u001b[32m     83\u001b[39m     face = faces[i]\n\u001b[32m---> \u001b[39m\u001b[32m84\u001b[39m     box = face.bbox.astype(\u001b[43mnp\u001b[49m\u001b[43m.\u001b[49m\u001b[43mint\u001b[49m)\n\u001b[32m     85\u001b[39m     color = (\u001b[32m0\u001b[39m, \u001b[32m0\u001b[39m, \u001b[32m255\u001b[39m)\n\u001b[32m     86\u001b[39m     cv2.rectangle(dimg, (box[\u001b[32m0\u001b[39m], box[\u001b[32m1\u001b[39m]), (box[\u001b[32m2\u001b[39m], box[\u001b[32m3\u001b[39m]), color, \u001b[32m2\u001b[39m)\n",
      "\u001b[36mFile \u001b[39m\u001b[32mc:\\Users\\admin\\.pyenv\\pyenv-win\\versions\\3.11.9\\Lib\\site-packages\\numpy\\__init__.py:338\u001b[39m, in \u001b[36m__getattr__\u001b[39m\u001b[34m(attr)\u001b[39m\n\u001b[32m    333\u001b[39m     warnings.warn(\n\u001b[32m    334\u001b[39m         \u001b[33mf\u001b[39m\u001b[33m\"\u001b[39m\u001b[33mIn the future `np.\u001b[39m\u001b[38;5;132;01m{\u001b[39;00mattr\u001b[38;5;132;01m}\u001b[39;00m\u001b[33m` will be defined as the \u001b[39m\u001b[33m\"\u001b[39m\n\u001b[32m    335\u001b[39m         \u001b[33m\"\u001b[39m\u001b[33mcorresponding NumPy scalar.\u001b[39m\u001b[33m\"\u001b[39m, \u001b[38;5;167;01mFutureWarning\u001b[39;00m, stacklevel=\u001b[32m2\u001b[39m)\n\u001b[32m    337\u001b[39m \u001b[38;5;28;01mif\u001b[39;00m attr \u001b[38;5;129;01min\u001b[39;00m __former_attrs__:\n\u001b[32m--> \u001b[39m\u001b[32m338\u001b[39m     \u001b[38;5;28;01mraise\u001b[39;00m \u001b[38;5;167;01mAttributeError\u001b[39;00m(__former_attrs__[attr])\n\u001b[32m    340\u001b[39m \u001b[38;5;28;01mif\u001b[39;00m attr == \u001b[33m'\u001b[39m\u001b[33mtesting\u001b[39m\u001b[33m'\u001b[39m:\n\u001b[32m    341\u001b[39m     \u001b[38;5;28;01mimport\u001b[39;00m\u001b[38;5;250m \u001b[39m\u001b[34;01mnumpy\u001b[39;00m\u001b[34;01m.\u001b[39;00m\u001b[34;01mtesting\u001b[39;00m\u001b[38;5;250m \u001b[39m\u001b[38;5;28;01mas\u001b[39;00m\u001b[38;5;250m \u001b[39m\u001b[34;01mtesting\u001b[39;00m\n",
      "\u001b[31mAttributeError\u001b[39m: module 'numpy' has no attribute 'int'.\n`np.int` was a deprecated alias for the builtin `int`. To avoid this error in existing code, use `int` by itself. Doing this will not modify any behavior and is safe. When replacing `np.int`, you may wish to use e.g. `np.int64` or `np.int32` to specify the precision. If you wish to review your current use, check the release note link for additional information.\nThe aliases was originally deprecated in NumPy 1.20; for more details and guidance see the original release note at:\n    https://numpy.org/devdocs/release/1.20.0-notes.html#deprecations"
     ]
    }
   ],
   "source": [
    "import cv2\n",
    "import numpy as np\n",
    "import insightface\n",
    "from insightface.app import FaceAnalysis\n",
    "from insightface.data import get_image as ins_get_image\n",
    "\n",
    "app = FaceAnalysis(providers=['CUDAExecutionProvider', 'CPUExecutionProvider'])\n",
    "app.prepare(ctx_id=0, det_size=(640, 640))\n",
    "img = ins_get_image('t1')\n",
    "faces = app.get(img)\n",
    "rimg = app.draw_on(img, faces)\n",
    "cv2.imwrite(\"./t1_output.jpg\", rimg)"
   ]
  },
  {
   "cell_type": "markdown",
   "id": "ea27483a",
   "metadata": {},
   "source": [
    "А тут для работы нужна старая версия numpy, которая не ставится потому что ModuleNotFoundError: No module named 'distutils.msvccompiler'"
   ]
  },
  {
   "cell_type": "markdown",
   "id": "1bd63958",
   "metadata": {},
   "source": [
    "Вообщем в репозитории упоминаются модели детекции и модели распознования, возможно без эапа alignment, или этот этап вшит в распознование. \n",
    "\n",
    "Репозиторий у них большой, еще есть код с заменой лиц на фото. \n",
    "\n",
    "Кстати это сделали создатели ArcFace лосса. "
   ]
  },
  {
   "cell_type": "code",
   "execution_count": null,
   "id": "93eec12d",
   "metadata": {},
   "outputs": [],
   "source": []
  }
 ],
 "metadata": {
  "kernelspec": {
   "display_name": "Python 3",
   "language": "python",
   "name": "python3"
  },
  "language_info": {
   "codemirror_mode": {
    "name": "ipython",
    "version": 3
   },
   "file_extension": ".py",
   "mimetype": "text/x-python",
   "name": "python",
   "nbconvert_exporter": "python",
   "pygments_lexer": "ipython3",
   "version": "3.11.9"
  }
 },
 "nbformat": 4,
 "nbformat_minor": 5
}
