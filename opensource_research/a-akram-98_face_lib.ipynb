{
 "cells": [
  {
   "cell_type": "markdown",
   "id": "eb79ca17",
   "metadata": {},
   "source": [
    "https://github.com/a-akram-98/face_lib"
   ]
  },
  {
   "cell_type": "markdown",
   "id": "c6480f24",
   "metadata": {},
   "source": [
    "Установка \n",
    "\n",
    "```\n",
    "pip install face-library\n",
    "```\n",
    "\n",
    "Затем также импорт в python"
   ]
  },
  {
   "cell_type": "code",
   "execution_count": 3,
   "id": "a2d50e5b",
   "metadata": {},
   "outputs": [
    {
     "name": "stdout",
     "output_type": "stream",
     "text": [
      "Face recognition model is corrupted downloading it again, please wait ...\n",
      "This download will be done once if no errors happened, don't worry ...\n",
      "If the download didn't done correctly you can create the instance again it will try to download it again automatically for you\n",
      "c:\\Users\\admin\\.pyenv\\pyenv-win\\versions\\3.11.9\\Lib\\site-packages\\face_lib\\graph_final.pb\n",
      "0\n",
      "Downloading started ...\n",
      "From: https://github.com/a-akram-98/face_lib/releases/download/v1.0.5/graph_final.pb\n",
      "To: c:\\Users\\admin\\.pyenv\\pyenv-win\\versions\\3.11.9\\Lib\\site-packages\\face_lib\\graph_final.pb\n"
     ]
    },
    {
     "name": "stderr",
     "output_type": "stream",
     "text": [
      "100%|██████████| 94.0M/94.0M [03:28<00:00, 451kB/s] \n"
     ]
    },
    {
     "ename": "error",
     "evalue": "OpenCV(4.11.0) D:\\a\\opencv-python\\opencv-python\\opencv\\modules\\dnn\\src\\graph_simplifier.cpp:267: error: (-215:Assertion failed) nodeIds.find(inpName) != nodeIds.end() in function 'cv::dnn::simplifySubgraphs'\n",
     "output_type": "error",
     "traceback": [
      "\u001b[31m---------------------------------------------------------------------------\u001b[39m",
      "\u001b[31merror\u001b[39m                                     Traceback (most recent call last)",
      "\u001b[36mFile \u001b[39m\u001b[32mc:\\Users\\admin\\.pyenv\\pyenv-win\\versions\\3.11.9\\Lib\\site-packages\\face_lib\\face_lib.py:24\u001b[39m, in \u001b[36mface_lib.__init__\u001b[39m\u001b[34m(self, detection_model)\u001b[39m\n\u001b[32m     23\u001b[39m     file_exists = os.path.exists(os.path.join(BASE_DIR , \u001b[33m\"\u001b[39m\u001b[33mgraph_final.pb\u001b[39m\u001b[33m\"\u001b[39m))\n\u001b[32m---> \u001b[39m\u001b[32m24\u001b[39m     \u001b[38;5;28mself\u001b[39m.__faceEmbeddingNet = \u001b[43mcv2\u001b[49m\u001b[43m.\u001b[49m\u001b[43mdnn\u001b[49m\u001b[43m.\u001b[49m\u001b[43mreadNetFromTensorflow\u001b[49m\u001b[43m(\u001b[49m\u001b[43mos\u001b[49m\u001b[43m.\u001b[49m\u001b[43mpath\u001b[49m\u001b[43m.\u001b[49m\u001b[43mjoin\u001b[49m\u001b[43m(\u001b[49m\u001b[43mBASE_DIR\u001b[49m\u001b[43m \u001b[49m\u001b[43m,\u001b[49m\u001b[43m \u001b[49m\u001b[33;43m\"\u001b[39;49m\u001b[33;43mgraph_final.pb\u001b[39;49m\u001b[33;43m\"\u001b[39;49m\u001b[43m)\u001b[49m\u001b[43m)\u001b[49m\n\u001b[32m     25\u001b[39m \u001b[38;5;28;01mexcept\u001b[39;00m:\n\u001b[32m     26\u001b[39m     \u001b[38;5;66;03m############## Download Face Recognition model fom github #############\u001b[39;00m\n",
      "\u001b[31merror\u001b[39m: OpenCV(4.11.0) D:\\a\\opencv-python\\opencv-python\\opencv\\modules\\dnn\\src\\graph_simplifier.cpp:267: error: (-215:Assertion failed) nodeIds.find(inpName) != nodeIds.end() in function 'cv::dnn::simplifySubgraphs'\n",
      "\nDuring handling of the above exception, another exception occurred:\n",
      "\u001b[31merror\u001b[39m                                     Traceback (most recent call last)",
      "\u001b[36mCell\u001b[39m\u001b[36m \u001b[39m\u001b[32mIn[3]\u001b[39m\u001b[32m, line 2\u001b[39m\n\u001b[32m      1\u001b[39m \u001b[38;5;28;01mfrom\u001b[39;00m\u001b[38;5;250m \u001b[39m\u001b[34;01mface_lib\u001b[39;00m\u001b[38;5;250m \u001b[39m\u001b[38;5;28;01mimport\u001b[39;00m face_lib\n\u001b[32m----> \u001b[39m\u001b[32m2\u001b[39m FL = \u001b[43mface_lib\u001b[49m\u001b[43m(\u001b[49m\u001b[43m)\u001b[49m\n",
      "\u001b[36mFile \u001b[39m\u001b[32mc:\\Users\\admin\\.pyenv\\pyenv-win\\versions\\3.11.9\\Lib\\site-packages\\face_lib\\face_lib.py:48\u001b[39m, in \u001b[36mface_lib.__init__\u001b[39m\u001b[34m(self, detection_model)\u001b[39m\n\u001b[32m     44\u001b[39m         \u001b[38;5;28mprint\u001b[39m(BASE_DIR)\n\u001b[32m     45\u001b[39m         \u001b[38;5;28;01mreturn\u001b[39;00m\n\u001b[32m---> \u001b[39m\u001b[32m48\u001b[39m \u001b[38;5;28mself\u001b[39m.__faceEmbeddingNet = \u001b[43mcv2\u001b[49m\u001b[43m.\u001b[49m\u001b[43mdnn\u001b[49m\u001b[43m.\u001b[49m\u001b[43mreadNetFromTensorflow\u001b[49m\u001b[43m(\u001b[49m\u001b[43mos\u001b[49m\u001b[43m.\u001b[49m\u001b[43mpath\u001b[49m\u001b[43m.\u001b[49m\u001b[43mjoin\u001b[49m\u001b[43m(\u001b[49m\u001b[43mBASE_DIR\u001b[49m\u001b[43m \u001b[49m\u001b[43m,\u001b[49m\u001b[43m \u001b[49m\u001b[33;43m\"\u001b[39;49m\u001b[33;43mgraph_final.pb\u001b[39;49m\u001b[33;43m\"\u001b[39;49m\u001b[43m)\u001b[49m\u001b[43m)\u001b[49m\n",
      "\u001b[31merror\u001b[39m: OpenCV(4.11.0) D:\\a\\opencv-python\\opencv-python\\opencv\\modules\\dnn\\src\\graph_simplifier.cpp:267: error: (-215:Assertion failed) nodeIds.find(inpName) != nodeIds.end() in function 'cv::dnn::simplifySubgraphs'\n"
     ]
    }
   ],
   "source": [
    "from face_lib import face_lib\n",
    "FL = face_lib()"
   ]
  },
  {
   "cell_type": "markdown",
   "id": "67228ec0",
   "metadata": {},
   "source": [
    "Модель тут 94мб, достаточно небольшая. \n",
    "\n",
    "Но с установкой опять проблемы, поэтому неизвестно как быстро оно работает. \n",
    "\n",
    "В фиункциях обещают face detection:"
   ]
  },
  {
   "cell_type": "code",
   "execution_count": null,
   "id": "8edc8098",
   "metadata": {},
   "outputs": [],
   "source": [
    "import cv2\n",
    "\n",
    "img = cv2.imread(path_to_image)\n",
    "faces = FL.get_faces(img) #return list of RGB faces image"
   ]
  },
  {
   "cell_type": "markdown",
   "id": "f32e510a",
   "metadata": {},
   "source": [
    "Face verification - определение один ли это человек на разных фото:"
   ]
  },
  {
   "cell_type": "code",
   "execution_count": null,
   "id": "2c6aebf6",
   "metadata": {},
   "outputs": [],
   "source": [
    "img_to_verfiy = cv2.imread(path_to_image_to_verify) #image that contain face you want verify\n",
    "gt_img = cv2.imread(path_to_image_to_compare) #image of the face to compare with\n",
    "\n",
    "face_exist, no_faces_detected = FL.recognition_pipeline(img_to_verfiy, gt_image)"
   ]
  },
  {
   "cell_type": "markdown",
   "id": "9245fe23",
   "metadata": {},
   "source": [
    "Для обработки больших количеств картинок есть возможность использовать пайплайн. \n",
    "\n",
    "Из изображения лица можно сделать эмбеддинги так:"
   ]
  },
  {
   "cell_type": "code",
   "execution_count": null,
   "id": "36433137",
   "metadata": {},
   "outputs": [],
   "source": [
    "face_embeddings = FL.face_embeddings(face_only_image)"
   ]
  },
  {
   "cell_type": "markdown",
   "id": "a32339f9",
   "metadata": {},
   "source": [
    "Библиотека небольшая, 58 звезд. "
   ]
  }
 ],
 "metadata": {
  "kernelspec": {
   "display_name": "Python 3",
   "language": "python",
   "name": "python3"
  },
  "language_info": {
   "codemirror_mode": {
    "name": "ipython",
    "version": 3
   },
   "file_extension": ".py",
   "mimetype": "text/x-python",
   "name": "python",
   "nbconvert_exporter": "python",
   "pygments_lexer": "ipython3",
   "version": "3.11.9"
  }
 },
 "nbformat": 4,
 "nbformat_minor": 5
}
